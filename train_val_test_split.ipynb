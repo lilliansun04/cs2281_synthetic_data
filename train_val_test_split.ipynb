{
 "cells": [
  {
   "cell_type": "code",
   "execution_count": 1,
   "metadata": {},
   "outputs": [],
   "source": [
    "import pandas as pd\n",
    "from sklearn.model_selection import train_test_split"
   ]
  },
  {
   "cell_type": "code",
   "execution_count": 2,
   "metadata": {},
   "outputs": [],
   "source": [
    "# explore dataset\n",
    "df = pd.read_csv('synthetic/summary_clean.csv')"
   ]
  },
  {
   "cell_type": "code",
   "execution_count": 3,
   "metadata": {},
   "outputs": [
    {
     "data": {
      "text/html": [
       "<div>\n",
       "<style scoped>\n",
       "    .dataframe tbody tr th:only-of-type {\n",
       "        vertical-align: middle;\n",
       "    }\n",
       "\n",
       "    .dataframe tbody tr th {\n",
       "        vertical-align: top;\n",
       "    }\n",
       "\n",
       "    .dataframe thead th {\n",
       "        text-align: right;\n",
       "    }\n",
       "</style>\n",
       "<table border=\"1\" class=\"dataframe\">\n",
       "  <thead>\n",
       "    <tr style=\"text-align: right;\">\n",
       "      <th></th>\n",
       "      <th>Unnamed: 0</th>\n",
       "      <th>id</th>\n",
       "      <th>article</th>\n",
       "      <th>gpt_summary</th>\n",
       "      <th>gpt_keywords</th>\n",
       "      <th>human_summary</th>\n",
       "    </tr>\n",
       "  </thead>\n",
       "  <tbody>\n",
       "    <tr>\n",
       "      <th>0</th>\n",
       "      <td>0</td>\n",
       "      <td>02268ba08216bf41f800a591340fa3ca516d821b</td>\n",
       "      <td>(CNN) -- A British tourist in the United State...</td>\n",
       "      <td>A British tourist, John Stephen Busby, was kil...</td>\n",
       "      <td>['crash', 'vintage', 'tourist', 'Galveston', '...</td>\n",
       "      <td>Man was in the United States for his 41st wedd...</td>\n",
       "    </tr>\n",
       "    <tr>\n",
       "      <th>1</th>\n",
       "      <td>1</td>\n",
       "      <td>02271084074dc719dfa84594eba2eae7bc5ac51d</td>\n",
       "      <td>(CNN) -- The race is on to locate the latest B...</td>\n",
       "      <td>Banksy is currently showcasing his latest art ...</td>\n",
       "      <td>['Banksy', 'New York', 'art', 'residency', 'so...</td>\n",
       "      <td>Banksy started out as a graffiti artist in wes...</td>\n",
       "    </tr>\n",
       "    <tr>\n",
       "      <th>2</th>\n",
       "      <td>2</td>\n",
       "      <td>02271c690c2e7876fbd1167750e91d360205b8f0</td>\n",
       "      <td>(CNN) -- Late one afternoon in the summer of 2...</td>\n",
       "      <td>The author reflects on her unconventional rela...</td>\n",
       "      <td>['marriage', 'divorce', 'love', 'commitment', ...</td>\n",
       "      <td>Elizabeth Gilbert is the author of \"Eat, Pray,...</td>\n",
       "    </tr>\n",
       "    <tr>\n",
       "      <th>3</th>\n",
       "      <td>3</td>\n",
       "      <td>0228c2331812dc41f4dbac83845761d7e632d400</td>\n",
       "      <td>(CNN) -- Rafael Nadal made light work of Marco...</td>\n",
       "      <td>Rafael Nadal showcased his prowess at the Aego...</td>\n",
       "      <td>['Rafael Nadal', 'Aegon Championships', 'grass...</td>\n",
       "      <td>Rafael Nadal wins his first game on grass in t...</td>\n",
       "    </tr>\n",
       "    <tr>\n",
       "      <th>4</th>\n",
       "      <td>4</td>\n",
       "      <td>022a2cd3f444f0a362aa7d66267cb74ba5bebd94</td>\n",
       "      <td>Jakarta, Indonesia (CNN) -- International flig...</td>\n",
       "      <td>International flights to Bali have been cancel...</td>\n",
       "      <td>['Bali', 'flights', 'volcanic', 'ash', 'Mount ...</td>\n",
       "      <td>An ash cloud has affected flights to the Indon...</td>\n",
       "    </tr>\n",
       "  </tbody>\n",
       "</table>\n",
       "</div>"
      ],
      "text/plain": [
       "   Unnamed: 0                                        id  \\\n",
       "0           0  02268ba08216bf41f800a591340fa3ca516d821b   \n",
       "1           1  02271084074dc719dfa84594eba2eae7bc5ac51d   \n",
       "2           2  02271c690c2e7876fbd1167750e91d360205b8f0   \n",
       "3           3  0228c2331812dc41f4dbac83845761d7e632d400   \n",
       "4           4  022a2cd3f444f0a362aa7d66267cb74ba5bebd94   \n",
       "\n",
       "                                             article  \\\n",
       "0  (CNN) -- A British tourist in the United State...   \n",
       "1  (CNN) -- The race is on to locate the latest B...   \n",
       "2  (CNN) -- Late one afternoon in the summer of 2...   \n",
       "3  (CNN) -- Rafael Nadal made light work of Marco...   \n",
       "4  Jakarta, Indonesia (CNN) -- International flig...   \n",
       "\n",
       "                                         gpt_summary  \\\n",
       "0  A British tourist, John Stephen Busby, was kil...   \n",
       "1  Banksy is currently showcasing his latest art ...   \n",
       "2  The author reflects on her unconventional rela...   \n",
       "3  Rafael Nadal showcased his prowess at the Aego...   \n",
       "4  International flights to Bali have been cancel...   \n",
       "\n",
       "                                        gpt_keywords  \\\n",
       "0  ['crash', 'vintage', 'tourist', 'Galveston', '...   \n",
       "1  ['Banksy', 'New York', 'art', 'residency', 'so...   \n",
       "2  ['marriage', 'divorce', 'love', 'commitment', ...   \n",
       "3  ['Rafael Nadal', 'Aegon Championships', 'grass...   \n",
       "4  ['Bali', 'flights', 'volcanic', 'ash', 'Mount ...   \n",
       "\n",
       "                                       human_summary  \n",
       "0  Man was in the United States for his 41st wedd...  \n",
       "1  Banksy started out as a graffiti artist in wes...  \n",
       "2  Elizabeth Gilbert is the author of \"Eat, Pray,...  \n",
       "3  Rafael Nadal wins his first game on grass in t...  \n",
       "4  An ash cloud has affected flights to the Indon...  "
      ]
     },
     "execution_count": 3,
     "metadata": {},
     "output_type": "execute_result"
    }
   ],
   "source": [
    "df.head()"
   ]
  },
  {
   "cell_type": "code",
   "execution_count": null,
   "metadata": {},
   "outputs": [
    {
     "name": "stdout",
     "output_type": "stream",
     "text": [
      "max character count: 11441\n",
      "max word count: 1887\n"
     ]
    }
   ],
   "source": [
    "print(f\"max character count: {df['article'].apply(len).max()}\")\n",
    "print(f\"max word count: {df['article'].apply(lambda x: len(str(x).split())).max()}\")\n",
    "# max_length for tokenized articles is around 3000"
   ]
  },
  {
   "cell_type": "code",
   "execution_count": null,
   "metadata": {},
   "outputs": [
    {
     "name": "stdout",
     "output_type": "stream",
     "text": [
      "max character count: 792\n",
      "max word count: 111\n"
     ]
    }
   ],
   "source": [
    "print(f\"max character count: {df['gpt_summary'].apply(len).max()}\")\n",
    "print(f\"max word count: {df['gpt_summary'].apply(lambda x: len(str(x).split())).max()}\")\n",
    "# max_length for tokenized summaries is around 256"
   ]
  },
  {
   "cell_type": "code",
   "execution_count": 5,
   "metadata": {},
   "outputs": [],
   "source": [
    "# do 80/10/10 split on df, then save as separate csv\n",
    "train_df, temp_df = train_test_split(df, test_size=0.2, random_state=42)\n",
    "val_df, test_df = train_test_split(temp_df, test_size=0.5, random_state=42)\n",
    "\n",
    "# Save to CSV files\n",
    "train_df.to_csv('synthetic/summary_train.csv', index=False)\n",
    "val_df.to_csv('synthetic/summary_val.csv', index=False)\n",
    "test_df.to_csv('synthetic/summary_test.csv', index=False)"
   ]
  },
  {
   "cell_type": "code",
   "execution_count": 6,
   "metadata": {},
   "outputs": [
    {
     "name": "stdout",
     "output_type": "stream",
     "text": [
      "<class 'pandas.core.frame.DataFrame'>\n",
      "Index: 27814 entries, 19821 to 15795\n",
      "Data columns (total 6 columns):\n",
      " #   Column         Non-Null Count  Dtype \n",
      "---  ------         --------------  ----- \n",
      " 0   Unnamed: 0     27814 non-null  int64 \n",
      " 1   id             27814 non-null  object\n",
      " 2   article        27814 non-null  object\n",
      " 3   gpt_summary    27814 non-null  object\n",
      " 4   gpt_keywords   27814 non-null  object\n",
      " 5   human_summary  27814 non-null  object\n",
      "dtypes: int64(1), object(5)\n",
      "memory usage: 1.5+ MB\n"
     ]
    }
   ],
   "source": [
    "train_df.info()"
   ]
  },
  {
   "cell_type": "code",
   "execution_count": 7,
   "metadata": {},
   "outputs": [
    {
     "name": "stdout",
     "output_type": "stream",
     "text": [
      "<class 'pandas.core.frame.DataFrame'>\n",
      "Index: 3477 entries, 8658 to 24601\n",
      "Data columns (total 6 columns):\n",
      " #   Column         Non-Null Count  Dtype \n",
      "---  ------         --------------  ----- \n",
      " 0   Unnamed: 0     3477 non-null   int64 \n",
      " 1   id             3477 non-null   object\n",
      " 2   article        3477 non-null   object\n",
      " 3   gpt_summary    3477 non-null   object\n",
      " 4   gpt_keywords   3477 non-null   object\n",
      " 5   human_summary  3477 non-null   object\n",
      "dtypes: int64(1), object(5)\n",
      "memory usage: 190.1+ KB\n"
     ]
    }
   ],
   "source": [
    "val_df.info()"
   ]
  },
  {
   "cell_type": "code",
   "execution_count": 10,
   "metadata": {},
   "outputs": [
    {
     "data": {
      "text/html": [
       "<div>\n",
       "<style scoped>\n",
       "    .dataframe tbody tr th:only-of-type {\n",
       "        vertical-align: middle;\n",
       "    }\n",
       "\n",
       "    .dataframe tbody tr th {\n",
       "        vertical-align: top;\n",
       "    }\n",
       "\n",
       "    .dataframe thead th {\n",
       "        text-align: right;\n",
       "    }\n",
       "</style>\n",
       "<table border=\"1\" class=\"dataframe\">\n",
       "  <thead>\n",
       "    <tr style=\"text-align: right;\">\n",
       "      <th></th>\n",
       "      <th>Unnamed: 0</th>\n",
       "      <th>id</th>\n",
       "      <th>article</th>\n",
       "      <th>gpt_summary</th>\n",
       "      <th>gpt_keywords</th>\n",
       "      <th>human_summary</th>\n",
       "    </tr>\n",
       "  </thead>\n",
       "  <tbody>\n",
       "    <tr>\n",
       "      <th>2805</th>\n",
       "      <td>122</td>\n",
       "      <td>d637da92309e496d6020b334fd9fd494610b2064</td>\n",
       "      <td>(CNN) -- Imagine if a streetlamp knew you were...</td>\n",
       "      <td>Tvilight is an innovative system that transfor...</td>\n",
       "      <td>['Tvilight', 'energy', 'streetlights', 'techno...</td>\n",
       "      <td>Tvilight is a streetlamp system that brightens...</td>\n",
       "    </tr>\n",
       "    <tr>\n",
       "      <th>23175</th>\n",
       "      <td>3961</td>\n",
       "      <td>281857c8d939dc2da94885a29d191b71624d4a36</td>\n",
       "      <td>(CNN Student News) -- August 12, 2014 . This T...</td>\n",
       "      <td>The CNN Student News report on August 12, 2014...</td>\n",
       "      <td>['Yazidis', 'Ukraine', 'mayor', 'college athle...</td>\n",
       "      <td>This page includes the show Transcript .\\nUse ...</td>\n",
       "    </tr>\n",
       "    <tr>\n",
       "      <th>13514</th>\n",
       "      <td>89</td>\n",
       "      <td>ac02746a6c65fc4de51ee6bb44ebcc6c474c39a9</td>\n",
       "      <td>(CNN) -- Russia's Prime Minister Vladimir Puti...</td>\n",
       "      <td>Russian Prime Minister Vladimir Putin met with...</td>\n",
       "      <td>['Putin', 'China', 'trade', 'energy', 'pipeline']</td>\n",
       "      <td>China's premier Wen Jiabao meets Vladimir Puti...</td>\n",
       "    </tr>\n",
       "    <tr>\n",
       "      <th>6272</th>\n",
       "      <td>8</td>\n",
       "      <td>01a238e9b569966c88901616404f89e89dd12e37</td>\n",
       "      <td>(CNN)The crusade to find a home for a sacred e...</td>\n",
       "      <td>The legendary electric guitar known as Les Pau...</td>\n",
       "      <td>['Les Paul', 'Black Beauty', 'guitar', 'auctio...</td>\n",
       "      <td>The Black Beauty is being sold by Tom Doyle, t...</td>\n",
       "    </tr>\n",
       "    <tr>\n",
       "      <th>20352</th>\n",
       "      <td>1138</td>\n",
       "      <td>0e1bbb8fe4bbcb37a3249725a1d2fdb6b30efa5d</td>\n",
       "      <td>OK, we can admit it. Even though Kate Upton sp...</td>\n",
       "      <td>Kate Upton's remarkable achievement of being t...</td>\n",
       "      <td>['Kate Upton', 'training', 'fitness', 'mind-bo...</td>\n",
       "      <td>Fitness trainer David Kirsch started working w...</td>\n",
       "    </tr>\n",
       "  </tbody>\n",
       "</table>\n",
       "</div>"
      ],
      "text/plain": [
       "       Unnamed: 0                                        id  \\\n",
       "2805          122  d637da92309e496d6020b334fd9fd494610b2064   \n",
       "23175        3961  281857c8d939dc2da94885a29d191b71624d4a36   \n",
       "13514          89  ac02746a6c65fc4de51ee6bb44ebcc6c474c39a9   \n",
       "6272            8  01a238e9b569966c88901616404f89e89dd12e37   \n",
       "20352        1138  0e1bbb8fe4bbcb37a3249725a1d2fdb6b30efa5d   \n",
       "\n",
       "                                                 article  \\\n",
       "2805   (CNN) -- Imagine if a streetlamp knew you were...   \n",
       "23175  (CNN Student News) -- August 12, 2014 . This T...   \n",
       "13514  (CNN) -- Russia's Prime Minister Vladimir Puti...   \n",
       "6272   (CNN)The crusade to find a home for a sacred e...   \n",
       "20352  OK, we can admit it. Even though Kate Upton sp...   \n",
       "\n",
       "                                             gpt_summary  \\\n",
       "2805   Tvilight is an innovative system that transfor...   \n",
       "23175  The CNN Student News report on August 12, 2014...   \n",
       "13514  Russian Prime Minister Vladimir Putin met with...   \n",
       "6272   The legendary electric guitar known as Les Pau...   \n",
       "20352  Kate Upton's remarkable achievement of being t...   \n",
       "\n",
       "                                            gpt_keywords  \\\n",
       "2805   ['Tvilight', 'energy', 'streetlights', 'techno...   \n",
       "23175  ['Yazidis', 'Ukraine', 'mayor', 'college athle...   \n",
       "13514  ['Putin', 'China', 'trade', 'energy', 'pipeline']   \n",
       "6272   ['Les Paul', 'Black Beauty', 'guitar', 'auctio...   \n",
       "20352  ['Kate Upton', 'training', 'fitness', 'mind-bo...   \n",
       "\n",
       "                                           human_summary  \n",
       "2805   Tvilight is a streetlamp system that brightens...  \n",
       "23175  This page includes the show Transcript .\\nUse ...  \n",
       "13514  China's premier Wen Jiabao meets Vladimir Puti...  \n",
       "6272   The Black Beauty is being sold by Tom Doyle, t...  \n",
       "20352  Fitness trainer David Kirsch started working w...  "
      ]
     },
     "execution_count": 10,
     "metadata": {},
     "output_type": "execute_result"
    }
   ],
   "source": [
    "test_df.head()"
   ]
  },
  {
   "cell_type": "code",
   "execution_count": null,
   "metadata": {},
   "outputs": [],
   "source": []
  }
 ],
 "metadata": {
  "kernelspec": {
   "display_name": "Python 3",
   "language": "python",
   "name": "python3"
  },
  "language_info": {
   "codemirror_mode": {
    "name": "ipython",
    "version": 3
   },
   "file_extension": ".py",
   "mimetype": "text/x-python",
   "name": "python",
   "nbconvert_exporter": "python",
   "pygments_lexer": "ipython3",
   "version": "3.11.8"
  }
 },
 "nbformat": 4,
 "nbformat_minor": 2
}
