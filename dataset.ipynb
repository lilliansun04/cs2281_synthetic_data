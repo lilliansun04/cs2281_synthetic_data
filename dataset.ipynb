{
 "cells": [
  {
   "cell_type": "markdown",
   "metadata": {},
   "source": [
    "# Dataset Creation\n",
    "1) Download the CNN/Dailymail dataset into the folder `datasets/`. The folder should be named `cnn_dailymail` already, and the train `.csv` should be in `datasets/cnn_dailymail/train.csv` (or change the directory below as needed)\n",
    "2) create the directory `datasets/cnn_parsed`\n",
    "3) Run this section of the notebook. This should remove all the dailymail and duplicate articles and save the new train test val split into the folder above."
   ]
  },
  {
   "cell_type": "code",
   "execution_count": 21,
   "metadata": {},
   "outputs": [],
   "source": [
    "import pandas as pd\n",
    "import matplotlib.pyplot as plt\n",
    "import numpy as np\n",
    "from sklearn.model_selection import train_test_split\n",
    "\n",
    "dataset_dir_in = 'datasets/cnn_dailymail/'\n",
    "dataset_dir_out = 'datasets/cnn_parsed/'"
   ]
  },
  {
   "cell_type": "code",
   "execution_count": 22,
   "metadata": {},
   "outputs": [],
   "source": [
    "# load train dataset\n",
    "def load_and_parse(dataset = 'train'):\n",
    "    df = pd.read_csv(dataset_dir_in + dataset + '.csv')\n",
    "    df = df[df.article.str.contains('CNN')]\n",
    "    df = df.drop_duplicates('article')\n",
    "    return df\n",
    "\n",
    "df_train = load_and_parse('train')\n",
    "df_test = load_and_parse('test')\n",
    "df_val = load_and_parse('validation')"
   ]
  },
  {
   "cell_type": "code",
   "execution_count": 23,
   "metadata": {},
   "outputs": [],
   "source": [
    "df = pd.concat([df_train, df_val])\n",
    "df_train, df_val = train_test_split(df, test_size=0.3)\n"
   ]
  },
  {
   "cell_type": "code",
   "execution_count": 35,
   "metadata": {},
   "outputs": [],
   "source": [
    "num_articles_per_split = 128\n",
    "\n",
    "def create_splits(df, num_articles_per_split):\n",
    "    splits = np.array(range(df.shape[0]))\n",
    "    splits = splits // num_articles_per_split\n",
    "    df['split'] = splits\n",
    "    return df\n",
    "\n",
    "df_train, df_val = create_splits(df_train, num_articles_per_split), create_splits(df_val, num_articles_per_split)"
   ]
  },
  {
   "cell_type": "code",
   "execution_count": 36,
   "metadata": {},
   "outputs": [],
   "source": [
    "df_train.to_csv(dataset_dir_out + 'train.csv')\n",
    "df_val.to_csv(dataset_dir_out + 'val.csv')\n",
    "df_test.to_csv(dataset_dir_out + 'test.csv')"
   ]
  },
  {
   "cell_type": "markdown",
   "metadata": {},
   "source": [
    "# Synthetic Data Test"
   ]
  },
  {
   "cell_type": "code",
   "execution_count": 63,
   "metadata": {},
   "outputs": [
    {
     "data": {
      "text/plain": [
       "451"
      ]
     },
     "execution_count": 63,
     "metadata": {},
     "output_type": "execute_result"
    }
   ],
   "source": [
    "import data\n",
    "import pandas as pd\n",
    "import matplotlib.pyplot as plt\n",
    "# test the summary generator\n",
    "\n",
    "df_train = pd.read_csv('datasets/cnn_parsed/train.csv')\n",
    "\n",
    "task = 'summary' # summary or qna\n",
    "synthetic_data_dir = f'datasets/synthetic/{task}/'\n",
    "\n",
    "if task == 'summary':\n",
    "    generator = data.SummaryGenerator()\n",
    "else:\n",
    "    generator = data.QnAGenerator()\n",
    "\n",
    "total_splits = df_train.split.max() + 1\n",
    "\n",
    "total_splits"
   ]
  },
  {
   "cell_type": "code",
   "execution_count": 45,
   "metadata": {},
   "outputs": [
    {
     "name": "stdout",
     "output_type": "stream",
     "text": [
      "----- Number of articles to parse -----\n",
      "128\n",
      "Sample 16\n",
      "Sample 32\n",
      "Sample 48\n",
      "Sample 64\n",
      "Sample 80\n",
      "Sample 96\n",
      "Sample 112\n",
      "Sample 128\n",
      "----- ELAPSED TIME -----\n",
      "208.3 seconds\n"
     ]
    },
    {
     "data": {
      "text/plain": [
       "{'id': '98e9ebb587845753ab2f26af3e278e28c9311892',\n",
       " 'article': '(CNN) -- When a black man dies at the hands of a white police officer, not often is there video evidence that could end the speculation and show what happened. In the case of John Crawford III, there is video evidence -- and Walmart needs to release the tape to the public immediately. Crawford was 22 years old when he and his girlfriend went to the Walmart last month in Beavercreek, a suburb of Dayton, Ohio. They planned to pick up the ingredients for s\\'mores for a family cookout. Crawford had two young children. While browsing, he picked up an unpackaged BB gun from one of the store shelves, and continued shopping. A man named Ronald Ritchie saw him and called 911. A black man was \"walking around with a gun in the store,\" and \"pointing it at people,\" Ritchie told them. A few minutes later, Crawford was dead -- shot on sight by police. His last words? \"It\\'s not real.\" The gun was a toy, and it was unloaded. (Absurdly, if Crawford had been carrying a loaded assault weapon in a threatening manner, it would have been legal under Ohio\\'s open carry laws. This is exactly why gun safety advocates like myself have so long criticized these laws for creating a culture of fear.) Was Ritchie more likely to see phantom danger and call the cops because Crawford was a black man? Were those cops more likely to pull the trigger -- by all accounts, without warning Crawford -- because Crawford was black? In other words, is Crawford dead today because he was black in America? The answer is clearly: Yes. But not for the reasons you think -- and that is why it is all the more important that this tape see the light of day. Our modern conception of racism is as a binary condition. You are either racist -- a monster, the epitome of bigotry -- or no racist at all. Night and day. Good and evil. Dare I say, black and white. But that is not what science tells us. Flash faces up on a screen and ask people to identify which ones are dangerous, and people will subtly pick those with darker skin. Ask them to play a video game where they shoot only bad guys wielding weapons, and they are marginally more likely to \"make a mistake\" when the unarmed figure is black. Scientists call it \"implicit bias.\" And the shocking thing? It appears not just in those who are openly bigoted, but even among believers in racial equality (including many black people ourselves). In other words, when it comes to racial attitudes, science has proven both right and left wrong. Racism is not a thing of the past; bias still lurks in our minds, despite ourselves. So conservatives are wrong when they insist that race is a non-issue and that everyone should \"move on.\" They should really stop accusing anyone who raises the issue of \"just playing the race card.\" Science is not on their side. On the other hand, progressives need to do a better job of acknowledging that MLK\\'s message of inclusion has had a huge impact -- at least at a conscious level. We have moved from a society that condoned slavery and segregation for centuries, to a society in which only a very small number of people are consciously hostile. That said: racism is a lingering virus -- alive in all of us, transmitted by a culture that devalues black faces. It is too often lethal to those with dark skin on the wrong end of a gun. I cannot help but think that it could have been me or my two sons shopping for toys. Would my Yale degree stop a bullet? Would the fact that their father is on TV have been enough to save my children? The only way to overcome this virus is to face its existence openly and honestly. That starts with being unafraid to discover what happened to John Crawford. And step one in that mission is for Walmart to bow to the request of the Crawford family, and the thousands who have signed a Color of Change petition, and release the surveillance tape. Crawford\\'s family says the video demonstrates that their son was never a threat, and that he was gunned down in cold blood. Even Ronald Ritchie, the man who called the police, has changed his story -- saying that Crawford never pointed a gun at anyone -- after seeing this tape. Ohio Attorney General Mike DeWine claims releasing the tape to the public would bias the jury. But he apparently has no problem showing the tape to Ritchie, a witness for the prosecution, to get his facts straight. Nor is he apparently concerned about rampant media speculation that Crawford had a criminal record (the charges were dropped), as if Crawford somehow deserved to be gunned down. Walmart is the largest employer of black people in the country, and black Americans make up a huge portion of their customers. The retail giant has an obligation to make sure that we feel safe in their stores. If DeWine will not release the video, Walmart should. Recently, a young woman in New Jersey crashed her BMW into three cars and assaulted a police officer. Officers did not fire a single shot. She was white. She is alive. John Crawford, Michael Brown and so many others are not. Releasing a tape will not bring John Crawford III or any of the others back. But if it forces us to confront the lingering realities of racial bias, perhaps some good will come of all this.',\n",
       " 'gpt_summary': 'The tragic case of John Crawford III, who was shot by police while holding a toy BB gun in Walmart, highlights the ongoing issues of racism and implicit bias in America. Despite the presence of video evidence that could clarify the events leading to his death, Walmart has yet to release the tape, which is crucial for confronting the realities of racial bias. This incident underscores the need for society to openly acknowledge and address the lingering effects of racism, as well as the disparities in how individuals are treated based on their race.',\n",
       " 'gpt_keywords': ['John Crawford III',\n",
       "  'police',\n",
       "  'racism',\n",
       "  'implicit bias',\n",
       "  'Walmart'],\n",
       " 'human_summary': 'John Crawford III, who was shopping, was shot by a white police officer in Walmart .\\nVan Jones: There is video evidence and Walmart should release the tape to the public .\\nHe says racism is not a thing of the past; implicit bias lurks in our minds .\\nJones: Walmart has an obligation to make sure that black people feel safe in its stores .'}"
      ]
     },
     "execution_count": 45,
     "metadata": {},
     "output_type": "execute_result"
    }
   ],
   "source": [
    "import time\n",
    "\n",
    "cur_split = 0\n",
    "df_parse = df_train[df_train.split == cur_split] # start with the first split\n",
    "print('----- Number of articles to parse -----')\n",
    "print(df_parse.shape[0])\n",
    "\n",
    "start_time = time.time()\n",
    "\n",
    "results = []\n",
    "for i, (idx, row) in enumerate(df_parse.iterrows()):\n",
    "    if (i+1) % 16 == 0:\n",
    "        print(f'Sample {i+1}') \n",
    "    id = row.id\n",
    "    article = row.article\n",
    "    human_summary = row.highlights\n",
    "    \n",
    "    try:\n",
    "        out = generator(article)\n",
    "        out['id'] = id\n",
    "        out['article'] = article\n",
    "        out['gpt_summary'] = out.pop('summary')\n",
    "        out['gpt_keywords'] = out.pop('keywords')\n",
    "        out['human_summary'] = human_summary\n",
    "        results.append(out)\n",
    "    except Exception as e:\n",
    "        print(e)\n",
    "\n",
    "end_time = time.time()\n",
    "\n",
    "print('----- ELAPSED TIME -----')\n",
    "print(f'{end_time - start_time:0.1f} seconds')\n",
    "\n",
    "results[0]"
   ]
  },
  {
   "cell_type": "code",
   "execution_count": null,
   "metadata": {},
   "outputs": [
    {
     "name": "stdout",
     "output_type": "stream",
     "text": [
      "Estimated total time: 37.25hrs\n"
     ]
    },
    {
     "data": {
      "text/plain": [
       "0.779368344050902"
      ]
     },
     "execution_count": 55,
     "metadata": {},
     "output_type": "execute_result"
    }
   ],
   "source": [
    "time_per_article = (end_time-start_time) / df_parse.shape[0]\n",
    "total_time = time_per_article * (df_train.shape[0] + df_val.shape[0])\n",
    "print(f'Estimated total time: {(total_time/3600):0.2f}hrs')\n",
    "\n",
    "num_tokens = 423348-273000"
   ]
  },
  {
   "cell_type": "code",
   "execution_count": null,
   "metadata": {},
   "outputs": [
    {
     "data": {
      "text/html": [
       "<div>\n",
       "<style scoped>\n",
       "    .dataframe tbody tr th:only-of-type {\n",
       "        vertical-align: middle;\n",
       "    }\n",
       "\n",
       "    .dataframe tbody tr th {\n",
       "        vertical-align: top;\n",
       "    }\n",
       "\n",
       "    .dataframe thead th {\n",
       "        text-align: right;\n",
       "    }\n",
       "</style>\n",
       "<table border=\"1\" class=\"dataframe\">\n",
       "  <thead>\n",
       "    <tr style=\"text-align: right;\">\n",
       "      <th></th>\n",
       "      <th>id</th>\n",
       "      <th>article</th>\n",
       "      <th>gpt_summary</th>\n",
       "      <th>gpt_keywords</th>\n",
       "      <th>human_summary</th>\n",
       "    </tr>\n",
       "  </thead>\n",
       "  <tbody>\n",
       "    <tr>\n",
       "      <th>0</th>\n",
       "      <td>98e9ebb587845753ab2f26af3e278e28c9311892</td>\n",
       "      <td>(CNN) -- When a black man dies at the hands of...</td>\n",
       "      <td>The tragic case of John Crawford III, who was ...</td>\n",
       "      <td>[John Crawford III, police, racism, implicit b...</td>\n",
       "      <td>John Crawford III, who was shopping, was shot ...</td>\n",
       "    </tr>\n",
       "    <tr>\n",
       "      <th>0</th>\n",
       "      <td>d698437338b33652a8260ec96df5a8b1cfadbf39</td>\n",
       "      <td>(CNN) -- Concerns about an impending terrorist...</td>\n",
       "      <td>A recent CNN poll indicates that concerns abou...</td>\n",
       "      <td>[terrorism, poll, Americans, Iraq, president]</td>\n",
       "      <td>Poll: About 1 in 10 say terrorism is the most ...</td>\n",
       "    </tr>\n",
       "    <tr>\n",
       "      <th>0</th>\n",
       "      <td>38cc920f6a5326b056ad0dc08a8f5e63ee6f25ec</td>\n",
       "      <td>Havana, Cuba (CNN) -- A member of the \"Cuban F...</td>\n",
       "      <td>Rene Gonzalez, a member of the Cuban Five spy ...</td>\n",
       "      <td>[Cuban Five, citizenship, return, Gonzalez, re...</td>\n",
       "      <td>'Cuban Five' renounces U.S. citizenship as con...</td>\n",
       "    </tr>\n",
       "    <tr>\n",
       "      <th>0</th>\n",
       "      <td>320f5735028777e4c4356c8292a704831240b9e8</td>\n",
       "      <td>(CNN) -- Two ships broke free Tuesday from the...</td>\n",
       "      <td>Two ships, the Russian research vessel Akademi...</td>\n",
       "      <td>[Antarctic, ships, ice, rescue, researchers]</td>\n",
       "      <td>NEW: Cracks in the ice allowed a Russian resea...</td>\n",
       "    </tr>\n",
       "    <tr>\n",
       "      <th>0</th>\n",
       "      <td>a94802555098c2d71e68cedfbead6621d728b19f</td>\n",
       "      <td>(CNN) -- Suppose that shortly after 9/11, when...</td>\n",
       "      <td>The text critiques President Bush's decision t...</td>\n",
       "      <td>[military commissions, federal court, justice,...</td>\n",
       "      <td>Obama administration now reconsidering trying ...</td>\n",
       "    </tr>\n",
       "  </tbody>\n",
       "</table>\n",
       "</div>"
      ],
      "text/plain": [
       "                                         id  \\\n",
       "0  98e9ebb587845753ab2f26af3e278e28c9311892   \n",
       "0  d698437338b33652a8260ec96df5a8b1cfadbf39   \n",
       "0  38cc920f6a5326b056ad0dc08a8f5e63ee6f25ec   \n",
       "0  320f5735028777e4c4356c8292a704831240b9e8   \n",
       "0  a94802555098c2d71e68cedfbead6621d728b19f   \n",
       "\n",
       "                                             article  \\\n",
       "0  (CNN) -- When a black man dies at the hands of...   \n",
       "0  (CNN) -- Concerns about an impending terrorist...   \n",
       "0  Havana, Cuba (CNN) -- A member of the \"Cuban F...   \n",
       "0  (CNN) -- Two ships broke free Tuesday from the...   \n",
       "0  (CNN) -- Suppose that shortly after 9/11, when...   \n",
       "\n",
       "                                         gpt_summary  \\\n",
       "0  The tragic case of John Crawford III, who was ...   \n",
       "0  A recent CNN poll indicates that concerns abou...   \n",
       "0  Rene Gonzalez, a member of the Cuban Five spy ...   \n",
       "0  Two ships, the Russian research vessel Akademi...   \n",
       "0  The text critiques President Bush's decision t...   \n",
       "\n",
       "                                        gpt_keywords  \\\n",
       "0  [John Crawford III, police, racism, implicit b...   \n",
       "0      [terrorism, poll, Americans, Iraq, president]   \n",
       "0  [Cuban Five, citizenship, return, Gonzalez, re...   \n",
       "0       [Antarctic, ships, ice, rescue, researchers]   \n",
       "0  [military commissions, federal court, justice,...   \n",
       "\n",
       "                                       human_summary  \n",
       "0  John Crawford III, who was shopping, was shot ...  \n",
       "0  Poll: About 1 in 10 say terrorism is the most ...  \n",
       "0  'Cuban Five' renounces U.S. citizenship as con...  \n",
       "0  NEW: Cracks in the ice allowed a Russian resea...  \n",
       "0  Obama administration now reconsidering trying ...  "
      ]
     },
     "execution_count": 61,
     "metadata": {},
     "output_type": "execute_result"
    }
   ],
   "source": [
    "# save results to dataframe\n",
    "df_out = pd.DataFrame(columns = results[0].keys())\n",
    "for result in results:\n",
    "    for key in result.keys():\n",
    "        result[key] = [result[key]]\n",
    "    df_row = pd.DataFrame.from_dict(result)\n",
    "    df_out = pd.concat([df_out, df_row])\n",
    "df_out.head()"
   ]
  },
  {
   "cell_type": "code",
   "execution_count": 64,
   "metadata": {},
   "outputs": [],
   "source": [
    "df_out.to_csv(synthetic_data_dir + f'train_{cur_split}.csv')"
   ]
  },
  {
   "cell_type": "code",
   "execution_count": null,
   "metadata": {},
   "outputs": [],
   "source": []
  }
 ],
 "metadata": {
  "kernelspec": {
   "display_name": "base",
   "language": "python",
   "name": "python3"
  },
  "language_info": {
   "codemirror_mode": {
    "name": "ipython",
    "version": 3
   },
   "file_extension": ".py",
   "mimetype": "text/x-python",
   "name": "python",
   "nbconvert_exporter": "python",
   "pygments_lexer": "ipython3",
   "version": "3.10.6"
  }
 },
 "nbformat": 4,
 "nbformat_minor": 2
}
