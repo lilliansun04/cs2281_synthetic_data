{
 "cells": [
  {
   "cell_type": "markdown",
   "metadata": {},
   "source": [
    "# Instructions\n",
    "* Run the code starting from 'Dataset Creation' up to Synthetic Data Generation. You only need to do this once\n",
    "* Then, the 'Synthetic Data Generation' section will contain everything you need for generating synthetic data from the dataset."
   ]
  },
  {
   "cell_type": "markdown",
   "metadata": {},
   "source": [
    "# Dataset Creation\n",
    "1) Download the CNN/Dailymail dataset into the folder `datasets/`. The folder should be named `cnn_dailymail` already, and the train `.csv` should be in `datasets/cnn_dailymail/train.csv` (or change the directory below as needed)\n",
    "2) create the directory `datasets/cnn_parsed`\n",
    "3) Run this section of the notebook. This should remove all the dailymail and duplicate articles and save the new train test val split into the folder above."
   ]
  },
  {
   "cell_type": "code",
   "execution_count": null,
   "metadata": {},
   "outputs": [],
   "source": [
    "import pandas as pd\n",
    "import matplotlib.pyplot as plt\n",
    "import numpy as np\n",
    "from sklearn.model_selection import train_test_split\n",
    "\n",
    "dataset_dir_in = 'datasets/cnn_dailymail/'\n",
    "dataset_dir_out = 'datasets/cnn_parsed/'\n",
    "\n",
    "# load train dataset\n",
    "def load_and_parse(dataset = 'train'):\n",
    "    df = pd.read_csv(dataset_dir_in + dataset + '.csv')\n",
    "    df = df[df.article.str.contains('CNN')]\n",
    "    df = df.drop_duplicates('article')\n",
    "    return df\n",
    "\n",
    "df_train = load_and_parse('train')\n",
    "df_test = load_and_parse('test')\n",
    "df_val = load_and_parse('validation')\n",
    "\n",
    "df = pd.concat([df_train, df_val, df_test])\n",
    "\n",
    "num_articles_per_split = 128 # 128\n",
    "\n",
    "def create_splits(df, num_articles_per_split):\n",
    "    df = df.sort_values('id')\n",
    "    splits = np.array(range(df.shape[0]))\n",
    "    splits = splits // num_articles_per_split\n",
    "    df['split'] = splits\n",
    "    return df\n",
    "\n",
    "df = create_splits(df, num_articles_per_split)\n",
    "\n",
    "df.to_csv(dataset_dir_out + 'all.csv')"
   ]
  },
  {
   "cell_type": "markdown",
   "metadata": {},
   "source": [
    "# Synthetic Data Generation"
   ]
  },
  {
   "cell_type": "markdown",
   "metadata": {},
   "source": [
    "* Below, make sure the directories match with the ones you created\n",
    "* Then specify 'splits' to choose which splits you want to generate data for. Kerem: 0-150, Lillian: 151-300, Emma: 301-450"
   ]
  },
  {
   "cell_type": "code",
   "execution_count": 1,
   "metadata": {},
   "outputs": [],
   "source": [
    "import data\n",
    "import matplotlib.pyplot as plt\n",
    "import pandas as pd\n",
    "from os import listdir\n",
    "from os.path import isfile, join\n",
    "\n",
    "task = 'qna' # qna or summary\n",
    "\n",
    "out_dir = f'datasets/synthetic/{task}/'\n",
    "\n",
    "# creates lookup table for data already processed\n",
    "def create_lookup_table(dir = out_dir):\n",
    "    files = [f for f in listdir(dir) if isfile(join(dir, f))]\n",
    "\n",
    "    lookup_df = None\n",
    "    for f in files:\n",
    "        print(f)\n",
    "        loc = dir + f\n",
    "        if lookup_df is None:\n",
    "            lookup_df = pd.read_csv(loc)\n",
    "        else:\n",
    "            df2 = pd.read_csv(loc)\n",
    "            lookup_df = pd.concat([lookup_df, df2])\n",
    "\n",
    "    if lookup_df is None:\n",
    "        return {}\n",
    "\n",
    "    unique_ids = lookup_df.id.unique()\n",
    "    id_lookup = {}\n",
    "    for idx in unique_ids:\n",
    "        id_lookup[idx] = 1\n",
    "\n",
    "    return id_lookup\n",
    "\n",
    "id_lookup = create_lookup_table(dir = out_dir)\n",
    "\n",
    "def is_processed(row):\n",
    "    try:\n",
    "        idx = id_lookup[row['id']]\n",
    "        return False\n",
    "    except:\n",
    "        return True"
   ]
  },
  {
   "cell_type": "code",
   "execution_count": 2,
   "metadata": {},
   "outputs": [
    {
     "name": "stdout",
     "output_type": "stream",
     "text": [
      "ALL DATA\n",
      "83558\n",
      "REMAINING\n",
      "(83558, 5)\n"
     ]
    },
    {
     "data": {
      "text/plain": [
       "5223"
      ]
     },
     "execution_count": 2,
     "metadata": {},
     "output_type": "execute_result"
    }
   ],
   "source": [
    "# read data and remove all ids that are already processed\n",
    "df_all = pd.read_csv('datasets/cnn_parsed/all.csv')\n",
    "\n",
    "print('ALL DATA')\n",
    "print(df_all.shape[0])\n",
    "\n",
    "df_all = df_all[df_all.apply(is_processed, axis = 1)]\n",
    "print('REMAINING')\n",
    "print(df_all.shape)\n",
    "\n",
    "synthetic_data_dir = f'datasets/synthetic/{task}/'\n",
    "\n",
    "if task == 'summary':\n",
    "    generator = data.SummaryGenerator()\n",
    "else:\n",
    "    generator = data.QnAGenerator()\n",
    "\n",
    "total_splits = df_all.split.max() + 1\n",
    "\n",
    "total_splits"
   ]
  },
  {
   "cell_type": "markdown",
   "metadata": {},
   "source": [
    "Below, we make the API requests and parse the output in real time. For batch processing, see the next sections."
   ]
  },
  {
   "cell_type": "code",
   "execution_count": 3,
   "metadata": {},
   "outputs": [
    {
     "name": "stdout",
     "output_type": "stream",
     "text": [
      "----- Parsing split 0 -----\n",
      "----- Number of articles to parse: 16 -----\n",
      "----- ELAPSED TIME -----\n",
      "77.4 seconds\n"
     ]
    }
   ],
   "source": [
    "import time\n",
    "\n",
    "# ! This is for real time processing ! \n",
    "# ! See below for batches !\n",
    "#\n",
    "splits = list(range(0, 1))\n",
    "data.process_splits(df_all, generator, splits, synthetic_data_dir = synthetic_data_dir, mode = 'all')"
   ]
  },
  {
   "cell_type": "markdown",
   "metadata": {},
   "source": [
    "# Create batch api (instead of the above)"
   ]
  },
  {
   "cell_type": "markdown",
   "metadata": {},
   "source": [
    "Initially create the `.jsonl` file which will be uploaded to OpenAI files. "
   ]
  },
  {
   "cell_type": "code",
   "execution_count": null,
   "metadata": {},
   "outputs": [],
   "source": [
    "import json\n",
    "\n",
    "with open(f\"batch_requests_{task}.jsonl\", \"w\") as f:\n",
    "    for i , (_, row) in enumerate(df_all.iterrows()):\n",
    "        if i == 10000:\n",
    "            break\n",
    "\n",
    "        text = row['article']\n",
    "        idx = row['id']\n",
    "\n",
    "        id_lookup[idx] = 1\n",
    "\n",
    "        custom_id = f'request-{task}-{idx}'\n",
    "\n",
    "        system_prompt = generator.system_prompt\n",
    "        \n",
    "        messages = [\n",
    "            {'role' : 'system', 'content' : system_prompt},\n",
    "            {'role' : 'user', 'content' : text}\n",
    "        ]\n",
    "\n",
    "        body = {'model' : 'gpt-4o-mini', 'messages' : messages, 'max_tokens' : 2048, 'temperature' : 0.1}\n",
    "        \n",
    "        line = {'custom_id' : custom_id, 'method' : 'POST', 'url' : '/v1/chat/completions', 'body' : body}\n",
    "        json.dump(line, f)\n",
    "        f.write('\\n')\n"
   ]
  },
  {
   "cell_type": "markdown",
   "metadata": {},
   "source": [
    "Then, upload the file created above with all the requests to OpenAI."
   ]
  },
  {
   "cell_type": "code",
   "execution_count": null,
   "metadata": {},
   "outputs": [],
   "source": [
    "from openai import OpenAI\n",
    "client = OpenAI()\n",
    "\n",
    "batch_input_file = client.files.create(\n",
    "file=open(f\"batch_requests_{task}.jsonl\", \"rb\"),\n",
    "purpose=\"batch\"\n",
    ")"
   ]
  },
  {
   "cell_type": "markdown",
   "metadata": {},
   "source": [
    "Start the batch processing. Make sure the following outputs `gpt-4o-mini` and `gpt-4o-mini-2024-07-18` "
   ]
  },
  {
   "cell_type": "code",
   "execution_count": null,
   "metadata": {},
   "outputs": [],
   "source": [
    "client.models.list()"
   ]
  },
  {
   "cell_type": "code",
   "execution_count": null,
   "metadata": {},
   "outputs": [
    {
     "data": {
      "text/plain": [
       "Batch(id='batch_675b4c357e688190b7147f69fc698aab', completion_window='24h', created_at=1734036533, endpoint='/v1/chat/completions', input_file_id='file-C1tn1nDmPATA7B5gd2TQU8', object='batch', status='validating', cancelled_at=None, cancelling_at=None, completed_at=None, error_file_id=None, errors=None, expired_at=None, expires_at=1734122933, failed_at=None, finalizing_at=None, in_progress_at=None, metadata={'description': 'Summarization'}, output_file_id=None, request_counts=BatchRequestCounts(completed=0, failed=0, total=0))"
      ]
     },
     "execution_count": 27,
     "metadata": {},
     "output_type": "execute_result"
    }
   ],
   "source": [
    "from openai import OpenAI\n",
    "client = OpenAI()\n",
    "\n",
    "client.batches.create(\n",
    "  input_file_id=batch_input_file.id,\n",
    "  endpoint=\"/v1/chat/completions\",\n",
    "  completion_window=\"24h\",\n",
    "  metadata={\n",
    "    \"description\": f\"{task}\"\n",
    "  }\n",
    ")"
   ]
  },
  {
   "cell_type": "markdown",
   "metadata": {},
   "source": [
    "# Parse batch responses\n",
    "Once the batch processing is done (check through the OpenAI platform dashboard), download the output file to a proper location and parse the output using the generator."
   ]
  },
  {
   "cell_type": "code",
   "execution_count": null,
   "metadata": {},
   "outputs": [
    {
     "ename": "IndexError",
     "evalue": "list index out of range",
     "output_type": "error",
     "traceback": [
      "\u001b[0;31m---------------------------------------------------------------------------\u001b[0m",
      "\u001b[0;31mIndexError\u001b[0m                                Traceback (most recent call last)",
      "Cell \u001b[0;32mIn[17], line 35\u001b[0m\n\u001b[1;32m     32\u001b[0m         \u001b[38;5;28;01mcontinue\u001b[39;00m\n\u001b[1;32m     33\u001b[0m         \u001b[38;5;28mprint\u001b[39m(e)\n\u001b[0;32m---> 35\u001b[0m df_out \u001b[38;5;241m=\u001b[39m pd\u001b[38;5;241m.\u001b[39mDataFrame(columns \u001b[38;5;241m=\u001b[39m \u001b[43mresults\u001b[49m\u001b[43m[\u001b[49m\u001b[38;5;241;43m0\u001b[39;49m\u001b[43m]\u001b[49m\u001b[38;5;241m.\u001b[39mkeys())\n\u001b[1;32m     36\u001b[0m \u001b[38;5;28;01mfor\u001b[39;00m result \u001b[38;5;129;01min\u001b[39;00m results:\n\u001b[1;32m     37\u001b[0m     \u001b[38;5;28;01mfor\u001b[39;00m key \u001b[38;5;129;01min\u001b[39;00m result\u001b[38;5;241m.\u001b[39mkeys():\n",
      "\u001b[0;31mIndexError\u001b[0m: list index out of range"
     ]
    }
   ],
   "source": [
    "import data\n",
    "import json\n",
    "import pandas as pd\n",
    "\n",
    "filename = 'datasets/batch_675b4c357e688190b7147f69fc698aab_output.jsonl'\n",
    "\n",
    "generator = data.SummaryGenerator() if task == 'summary' else data.QnAGenerator()\n",
    "\n",
    "with open(filename, 'r') as json_file:\n",
    "    json_list = list(json_file)\n",
    "\n",
    "\n",
    "results = []\n",
    "for json_str in json_list:\n",
    "    result = json.loads(json_str)\n",
    "\n",
    "    id = result['custom_id'].split('-')[2]\n",
    "    text = result['response']['body']['choices'][0]['message']['content']\n",
    "    \n",
    "    try:\n",
    "        out = generator.parse_response(text)\n",
    "       \n",
    "        out['id'] = id\n",
    "        out['gpt_summary'] = out.pop('summary')\n",
    "\n",
    "        if task == 'summary':\n",
    "            out['gpt_keywords'] = out.pop('keywords')\n",
    "        else:\n",
    "            out['qna'] = out.pop('qna')\n",
    "        results.append(out)\n",
    "    except Exception as e:\n",
    "        continue\n",
    "        print(e)\n",
    "\n",
    "df_out = pd.DataFrame(columns = results[0].keys())\n",
    "for result in results:\n",
    "    for key in result.keys():\n",
    "        result[key] = [result[key]] # otherwise the lists are ignored\n",
    "    df_row = pd.DataFrame.from_dict(result)\n",
    "    df_out = pd.concat([df_out, df_row])\n",
    "    \n",
    "df_all = pd.read_csv('datasets/cnn_parsed/all.csv')\n",
    "df_all = df_all.rename(columns={'highlights' : 'human_summary'})\n",
    "\n",
    "df_merged = pd.merge(df_all, df_out, on='id', how='inner')\n",
    "df_merged.drop(df_merged.columns[df_merged.columns.str.contains('^Unnamed')], axis=1, inplace=True)\n",
    "print(df_merged.shape)\n",
    "df_merged.head()\n"
   ]
  },
  {
   "cell_type": "code",
   "execution_count": null,
   "metadata": {},
   "outputs": [],
   "source": [
    "# save the outputs\n",
    "# make sure you change the filename below every time you run batch to avoid overriding\n",
    "df_merged.to_csv(f'datasets/synthetic/{task}/batch_0.csv')"
   ]
  },
  {
   "cell_type": "markdown",
   "metadata": {},
   "source": [
    "# Create Final Dataset"
   ]
  },
  {
   "cell_type": "code",
   "execution_count": 4,
   "metadata": {},
   "outputs": [
    {
     "name": "stdout",
     "output_type": "stream",
     "text": [
      "all_0.csv\n"
     ]
    },
    {
     "data": {
      "text/html": [
       "<div>\n",
       "<style scoped>\n",
       "    .dataframe tbody tr th:only-of-type {\n",
       "        vertical-align: middle;\n",
       "    }\n",
       "\n",
       "    .dataframe tbody tr th {\n",
       "        vertical-align: top;\n",
       "    }\n",
       "\n",
       "    .dataframe thead th {\n",
       "        text-align: right;\n",
       "    }\n",
       "</style>\n",
       "<table border=\"1\" class=\"dataframe\">\n",
       "  <thead>\n",
       "    <tr style=\"text-align: right;\">\n",
       "      <th></th>\n",
       "      <th>id</th>\n",
       "      <th>article</th>\n",
       "      <th>human_summary</th>\n",
       "      <th>gpt_summary</th>\n",
       "      <th>qna</th>\n",
       "    </tr>\n",
       "  </thead>\n",
       "  <tbody>\n",
       "    <tr>\n",
       "      <th>0</th>\n",
       "      <td>000128cbd36642ced67ac90bd7d4d1dd5e8cf554</td>\n",
       "      <td>December 19, 2014 . CNN Student News is wrappi...</td>\n",
       "      <td>This page includes the show Transcript .\\nUse ...</td>\n",
       "      <td>CNN Student News is concluding 2014 with a re...</td>\n",
       "      <td>[{\"Q\": \" Did CNN Student News cover ten intern...</td>\n",
       "    </tr>\n",
       "    <tr>\n",
       "      <th>1</th>\n",
       "      <td>0001f1fcec4ca8bc7e278607ba0e31e5cc046e66</td>\n",
       "      <td>Democratic Republic of Congo (CNN) -- Our frie...</td>\n",
       "      <td>Ashley Judd  tells story of girl who was victi...</td>\n",
       "      <td>The text discusses the plight of Kika, a surv...</td>\n",
       "      <td>[{\"Q\": \" Is Kika a survivor of gender violence...</td>\n",
       "    </tr>\n",
       "    <tr>\n",
       "      <th>2</th>\n",
       "      <td>0002095e55fcbd3a2f366d9bf92a95433dc305ef</td>\n",
       "      <td>(CNN) -- Ralph Mata was an internal affairs li...</td>\n",
       "      <td>Criminal complaint: Cop used his role to help ...</td>\n",
       "      <td>Ralph Mata, a lieutenant in the Miami-Dade Po...</td>\n",
       "      <td>[{\"Q\": \" Was Ralph Mata a police officer?\\n\", ...</td>\n",
       "    </tr>\n",
       "    <tr>\n",
       "      <th>3</th>\n",
       "      <td>0002c17436637c4fe1837c935c04de47adb18e9a</td>\n",
       "      <td>(CNN) -- With a breezy sweep of his pen Presid...</td>\n",
       "      <td>Nina dos Santos says Europe must be ready to a...</td>\n",
       "      <td>President Vladimir Putin has committed Crimea...</td>\n",
       "      <td>[{\"Q\": \" Did President Putin commit Crimea to ...</td>\n",
       "    </tr>\n",
       "    <tr>\n",
       "      <th>4</th>\n",
       "      <td>000424152bce9d9f36cb43884dacf16b43052463</td>\n",
       "      <td>(CNN) -- The powerful but compact Hurricane Ra...</td>\n",
       "      <td>NEW: Raymond weakens slightly as it moves towa...</td>\n",
       "      <td>Hurricane Raymond, a Category 3 storm with wi...</td>\n",
       "      <td>[{\"Q\": \" Is Hurricane Raymond currently a Cate...</td>\n",
       "    </tr>\n",
       "  </tbody>\n",
       "</table>\n",
       "</div>"
      ],
      "text/plain": [
       "                                         id  \\\n",
       "0  000128cbd36642ced67ac90bd7d4d1dd5e8cf554   \n",
       "1  0001f1fcec4ca8bc7e278607ba0e31e5cc046e66   \n",
       "2  0002095e55fcbd3a2f366d9bf92a95433dc305ef   \n",
       "3  0002c17436637c4fe1837c935c04de47adb18e9a   \n",
       "4  000424152bce9d9f36cb43884dacf16b43052463   \n",
       "\n",
       "                                             article  \\\n",
       "0  December 19, 2014 . CNN Student News is wrappi...   \n",
       "1  Democratic Republic of Congo (CNN) -- Our frie...   \n",
       "2  (CNN) -- Ralph Mata was an internal affairs li...   \n",
       "3  (CNN) -- With a breezy sweep of his pen Presid...   \n",
       "4  (CNN) -- The powerful but compact Hurricane Ra...   \n",
       "\n",
       "                                       human_summary  \\\n",
       "0  This page includes the show Transcript .\\nUse ...   \n",
       "1  Ashley Judd  tells story of girl who was victi...   \n",
       "2  Criminal complaint: Cop used his role to help ...   \n",
       "3  Nina dos Santos says Europe must be ready to a...   \n",
       "4  NEW: Raymond weakens slightly as it moves towa...   \n",
       "\n",
       "                                         gpt_summary  \\\n",
       "0   CNN Student News is concluding 2014 with a re...   \n",
       "1   The text discusses the plight of Kika, a surv...   \n",
       "2   Ralph Mata, a lieutenant in the Miami-Dade Po...   \n",
       "3   President Vladimir Putin has committed Crimea...   \n",
       "4   Hurricane Raymond, a Category 3 storm with wi...   \n",
       "\n",
       "                                                 qna  \n",
       "0  [{\"Q\": \" Did CNN Student News cover ten intern...  \n",
       "1  [{\"Q\": \" Is Kika a survivor of gender violence...  \n",
       "2  [{\"Q\": \" Was Ralph Mata a police officer?\\n\", ...  \n",
       "3  [{\"Q\": \" Did President Putin commit Crimea to ...  \n",
       "4  [{\"Q\": \" Is Hurricane Raymond currently a Cate...  "
      ]
     },
     "execution_count": 4,
     "metadata": {},
     "output_type": "execute_result"
    }
   ],
   "source": [
    "from os import listdir\n",
    "from os.path import isfile, join\n",
    "import data\n",
    "import pandas as pd\n",
    "import json\n",
    "\n",
    "dir = f'datasets/synthetic/{task}/'\n",
    "\n",
    "files = [f for f in listdir(dir) if isfile(join(dir, f))]\n",
    "\n",
    "df = None\n",
    "for f in files:\n",
    "    print(f)\n",
    "    loc = dir + f\n",
    "    if df is None:\n",
    "        df = pd.read_csv(loc)\n",
    "    else:\n",
    "        df2 = pd.read_csv(loc)\n",
    "        df = pd.concat([df, df2])\n",
    "\n",
    "df.drop(df.columns[df.columns.str.contains('^split')], axis = 1, inplace=True)\n",
    "df.drop(df.columns[df.columns.str.contains('^Unnamed')], axis=1, inplace=True)\n",
    "\n",
    "df.head()"
   ]
  },
  {
   "cell_type": "code",
   "execution_count": 5,
   "metadata": {},
   "outputs": [
    {
     "name": "stdout",
     "output_type": "stream",
     "text": [
      "(16,)\n",
      "(16,)\n",
      "(16,)\n",
      "(16,)\n",
      "(16,)\n"
     ]
    },
    {
     "data": {
      "text/html": [
       "<div>\n",
       "<style scoped>\n",
       "    .dataframe tbody tr th:only-of-type {\n",
       "        vertical-align: middle;\n",
       "    }\n",
       "\n",
       "    .dataframe tbody tr th {\n",
       "        vertical-align: top;\n",
       "    }\n",
       "\n",
       "    .dataframe thead th {\n",
       "        text-align: right;\n",
       "    }\n",
       "</style>\n",
       "<table border=\"1\" class=\"dataframe\">\n",
       "  <thead>\n",
       "    <tr style=\"text-align: right;\">\n",
       "      <th></th>\n",
       "      <th>id</th>\n",
       "      <th>article</th>\n",
       "      <th>human_summary</th>\n",
       "      <th>gpt_summary</th>\n",
       "      <th>qna</th>\n",
       "    </tr>\n",
       "  </thead>\n",
       "  <tbody>\n",
       "    <tr>\n",
       "      <th>0</th>\n",
       "      <td>000128cbd36642ced67ac90bd7d4d1dd5e8cf554</td>\n",
       "      <td>December 19, 2014 . CNN Student News is wrappi...</td>\n",
       "      <td>This page includes the show Transcript .\\nUse ...</td>\n",
       "      <td>CNN Student News is concluding 2014 with a re...</td>\n",
       "      <td>[{\"Q\": \" Did CNN Student News cover ten intern...</td>\n",
       "    </tr>\n",
       "    <tr>\n",
       "      <th>1</th>\n",
       "      <td>0001f1fcec4ca8bc7e278607ba0e31e5cc046e66</td>\n",
       "      <td>Democratic Republic of Congo (CNN) -- Our frie...</td>\n",
       "      <td>Ashley Judd  tells story of girl who was victi...</td>\n",
       "      <td>The text discusses the plight of Kika, a surv...</td>\n",
       "      <td>[{\"Q\": \" Is Kika a survivor of gender violence...</td>\n",
       "    </tr>\n",
       "    <tr>\n",
       "      <th>2</th>\n",
       "      <td>0002095e55fcbd3a2f366d9bf92a95433dc305ef</td>\n",
       "      <td>(CNN) -- Ralph Mata was an internal affairs li...</td>\n",
       "      <td>Criminal complaint: Cop used his role to help ...</td>\n",
       "      <td>Ralph Mata, a lieutenant in the Miami-Dade Po...</td>\n",
       "      <td>[{\"Q\": \" Was Ralph Mata a police officer?\\n\", ...</td>\n",
       "    </tr>\n",
       "    <tr>\n",
       "      <th>3</th>\n",
       "      <td>0002c17436637c4fe1837c935c04de47adb18e9a</td>\n",
       "      <td>(CNN) -- With a breezy sweep of his pen Presid...</td>\n",
       "      <td>Nina dos Santos says Europe must be ready to a...</td>\n",
       "      <td>President Vladimir Putin has committed Crimea...</td>\n",
       "      <td>[{\"Q\": \" Did President Putin commit Crimea to ...</td>\n",
       "    </tr>\n",
       "    <tr>\n",
       "      <th>4</th>\n",
       "      <td>000424152bce9d9f36cb43884dacf16b43052463</td>\n",
       "      <td>(CNN) -- The powerful but compact Hurricane Ra...</td>\n",
       "      <td>NEW: Raymond weakens slightly as it moves towa...</td>\n",
       "      <td>Hurricane Raymond, a Category 3 storm with wi...</td>\n",
       "      <td>[{\"Q\": \" Is Hurricane Raymond currently a Cate...</td>\n",
       "    </tr>\n",
       "  </tbody>\n",
       "</table>\n",
       "</div>"
      ],
      "text/plain": [
       "                                         id  \\\n",
       "0  000128cbd36642ced67ac90bd7d4d1dd5e8cf554   \n",
       "1  0001f1fcec4ca8bc7e278607ba0e31e5cc046e66   \n",
       "2  0002095e55fcbd3a2f366d9bf92a95433dc305ef   \n",
       "3  0002c17436637c4fe1837c935c04de47adb18e9a   \n",
       "4  000424152bce9d9f36cb43884dacf16b43052463   \n",
       "\n",
       "                                             article  \\\n",
       "0  December 19, 2014 . CNN Student News is wrappi...   \n",
       "1  Democratic Republic of Congo (CNN) -- Our frie...   \n",
       "2  (CNN) -- Ralph Mata was an internal affairs li...   \n",
       "3  (CNN) -- With a breezy sweep of his pen Presid...   \n",
       "4  (CNN) -- The powerful but compact Hurricane Ra...   \n",
       "\n",
       "                                       human_summary  \\\n",
       "0  This page includes the show Transcript .\\nUse ...   \n",
       "1  Ashley Judd  tells story of girl who was victi...   \n",
       "2  Criminal complaint: Cop used his role to help ...   \n",
       "3  Nina dos Santos says Europe must be ready to a...   \n",
       "4  NEW: Raymond weakens slightly as it moves towa...   \n",
       "\n",
       "                                         gpt_summary  \\\n",
       "0   CNN Student News is concluding 2014 with a re...   \n",
       "1   The text discusses the plight of Kika, a surv...   \n",
       "2   Ralph Mata, a lieutenant in the Miami-Dade Po...   \n",
       "3   President Vladimir Putin has committed Crimea...   \n",
       "4   Hurricane Raymond, a Category 3 storm with wi...   \n",
       "\n",
       "                                                 qna  \n",
       "0  [{\"Q\": \" Did CNN Student News cover ten intern...  \n",
       "1  [{\"Q\": \" Is Kika a survivor of gender violence...  \n",
       "2  [{\"Q\": \" Was Ralph Mata a police officer?\\n\", ...  \n",
       "3  [{\"Q\": \" Did President Putin commit Crimea to ...  \n",
       "4  [{\"Q\": \" Is Hurricane Raymond currently a Cate...  "
      ]
     },
     "execution_count": 5,
     "metadata": {},
     "output_type": "execute_result"
    }
   ],
   "source": [
    "# sanity check\n",
    "for col in df.columns:\n",
    "    print(df[col].unique().shape)\n",
    "\n",
    "df.head()"
   ]
  },
  {
   "cell_type": "code",
   "execution_count": 8,
   "metadata": {},
   "outputs": [],
   "source": [
    "df.to_csv(f'datasets/synthetic/{task}_clean.csv')"
   ]
  },
  {
   "cell_type": "code",
   "execution_count": null,
   "metadata": {},
   "outputs": [
    {
     "data": {
      "text/plain": [
       "[{'Q': ' Did CNN Student News cover ten international stories in their report?  \\n',\n",
       "  'A': True},\n",
       " {'Q': ' Will CNN Student News resume its program on January 5, 2015?  \\n',\n",
       "  'A': True},\n",
       " {'Q': ' Is there a Weekly Newsquiz available on the page?  \\n', 'A': True},\n",
       " {'Q': ' Can students younger than 13 request to be mentioned in the CNN Student News Roll Call?  \\n',\n",
       "  'A': False},\n",
       " {'Q': ' Did the staff at CNN Student News thank their audience for the past year?  \\n',\n",
       "  'A': True}]"
      ]
     },
     "execution_count": 7,
     "metadata": {},
     "output_type": "execute_result"
    }
   ],
   "source": [
    "# json.loads(df['qna'].iloc[0])"
   ]
  },
  {
   "cell_type": "code",
   "execution_count": null,
   "metadata": {},
   "outputs": [],
   "source": []
  }
 ],
 "metadata": {
  "kernelspec": {
   "display_name": "base",
   "language": "python",
   "name": "python3"
  },
  "language_info": {
   "codemirror_mode": {
    "name": "ipython",
    "version": 3
   },
   "file_extension": ".py",
   "mimetype": "text/x-python",
   "name": "python",
   "nbconvert_exporter": "python",
   "pygments_lexer": "ipython3",
   "version": "3.10.6"
  }
 },
 "nbformat": 4,
 "nbformat_minor": 2
}
