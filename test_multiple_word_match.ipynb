{
 "cells": [
  {
   "cell_type": "code",
   "execution_count": 2,
   "metadata": {},
   "outputs": [
    {
     "name": "stdout",
     "output_type": "stream",
     "text": [
      "Running multi-word keyword matching tests...\n",
      "\n",
      "\n",
      "Test: Exact matches\n",
      "==================================================\n"
     ]
    },
    {
     "name": "stderr",
     "output_type": "stream",
     "text": [
      "1it [00:00, 70.78it/s]\n"
     ]
    },
    {
     "name": "stdout",
     "output_type": "stream",
     "text": [
      "Matched 'artificial intelligence' with 'artificial intelligence' (score: 100.0)\n",
      "Matched 'healthcare industry' with 'healthcare industry' (score: 100.0)\n",
      "Matched 'transforming' with 'transforming' (score: 100.0)\n",
      "\n",
      "Completion: artificial intelligence is transforming the healthcare industry rapidly\n",
      "Keywords: ['artificial intelligence', 'healthcare industry', 'transforming']\n",
      "Match percentage: 100.0%\n",
      "--------------------------------------------------------------------------------\n",
      "\n",
      "Final match percentage: 100.00%\n",
      "\n",
      "\n",
      "Test: Partial/fuzzy matches\n",
      "==================================================\n"
     ]
    },
    {
     "name": "stderr",
     "output_type": "stream",
     "text": [
      "1it [00:00, 9300.01it/s]\n"
     ]
    },
    {
     "name": "stdout",
     "output_type": "stream",
     "text": [
      "Matched 'artificial intelligence' with 'artifical intellegence' (score: 93.33333333333333)\n",
      "Matched 'healthcare industry' with 'health industry' (score: 88.23529411764706)\n",
      "\n",
      "Completion: artifical intellegence is changing the health industry fast\n",
      "Keywords: ['artificial intelligence', 'healthcare industry', 'transforming']\n",
      "Match percentage: 66.66666666666666%\n",
      "--------------------------------------------------------------------------------\n",
      "\n",
      "Final match percentage: 66.67%\n",
      "\n",
      "\n",
      "Test: Long phrase matches\n",
      "==================================================\n"
     ]
    },
    {
     "name": "stderr",
     "output_type": "stream",
     "text": [
      "1it [00:00, 10131.17it/s]\n"
     ]
    },
    {
     "name": "stdout",
     "output_type": "stream",
     "text": [
      "Matched 'quick brown fox' with 'quick brown fox' (score: 100.0)\n",
      "Matched 'lazy sleeping dog' with 'lazy sleeping dog' (score: 100.0)\n",
      "Matched 'in the park' with 'in the park' (score: 100.0)\n",
      "\n",
      "Completion: the quick brown fox jumps over the lazy sleeping dog in the park\n",
      "Keywords: ['quick brown fox', 'lazy sleeping dog', 'in the park']\n",
      "Match percentage: 100.0%\n",
      "--------------------------------------------------------------------------------\n",
      "\n",
      "Final match percentage: 100.00%\n",
      "\n",
      "\n",
      "Test: Mixed length phrases\n",
      "==================================================\n"
     ]
    },
    {
     "name": "stderr",
     "output_type": "stream",
     "text": [
      "1it [00:00, 4236.67it/s]\n"
     ]
    },
    {
     "name": "stdout",
     "output_type": "stream",
     "text": [
      "Matched 'deep learning' with 'deep learning' (score: 100.0)\n",
      "Matched 'sophisticated' with 'sophisticated' (score: 100.0)\n",
      "Matched 'becoming more sophisticated' with 'becoming more sophisticated' (score: 100.0)\n",
      "Matched 'models' with 'models' (score: 100.0)\n",
      "\n",
      "Completion: deep learning models are becoming more sophisticated every day\n",
      "Keywords: ['deep learning', 'sophisticated', 'becoming more sophisticated', 'models']\n",
      "Match percentage: 100.0%\n",
      "--------------------------------------------------------------------------------\n",
      "\n",
      "Final match percentage: 100.00%\n",
      "\n",
      "\n",
      "Test: Five-word phrases\n",
      "==================================================\n"
     ]
    },
    {
     "name": "stderr",
     "output_type": "stream",
     "text": [
      "1it [00:00, 7825.19it/s]"
     ]
    },
    {
     "name": "stdout",
     "output_type": "stream",
     "text": [
      "Matched 'big red ball bounced down' with 'big red ball bounced down' (score: 100.0)\n",
      "Matched 'rolled into the river' with 'rolled into the river' (score: 100.0)\n",
      "Matched 'steep hill quickly' with 'steep hill quickly' (score: 100.0)\n",
      "\n",
      "Completion: the big red ball bounced down the steep hill quickly and rolled into the river\n",
      "Keywords: ['big red ball bounced down', 'rolled into the river', 'steep hill quickly']\n",
      "Match percentage: 100.0%\n",
      "--------------------------------------------------------------------------------\n",
      "\n",
      "Final match percentage: 100.00%\n",
      "\n"
     ]
    },
    {
     "name": "stderr",
     "output_type": "stream",
     "text": [
      "\n"
     ]
    }
   ],
   "source": [
    "from rapidfuzz import fuzz, process\n",
    "from tqdm import tqdm\n",
    "\n",
    "# First, copy the evaluation function\n",
    "def get_ngrams(text, n):\n",
    "    \"\"\"Generate n-grams from text.\"\"\"\n",
    "    words = text.split()\n",
    "    return [' '.join(words[i:i+n]) for i in range(len(words)-n+1)]\n",
    "\n",
    "def evaluate_summary(summarization_outputs, summarization_val_dataset, tokenizer=None, verbose=True):\n",
    "    total_keyword_match_percentage = 0\n",
    "    \n",
    "    for output, keywords in tqdm(zip(summarization_outputs, summarization_val_dataset[\"gpt_keywords\"])):\n",
    "        keyword_matches = 0\n",
    "        generated_text = output[\"generated_summary\"].lower()\n",
    "        \n",
    "        max_keyword_length = max(len(keyword.split()) for keyword in keywords)\n",
    "        all_ngrams = []\n",
    "        for n in range(1, max_keyword_length + 1):\n",
    "            all_ngrams.extend(get_ngrams(generated_text, n))\n",
    "        \n",
    "        for keyword in keywords:\n",
    "            keyword = keyword.lower()\n",
    "            best_match = process.extractOne(\n",
    "                keyword, all_ngrams, scorer=fuzz.ratio, score_cutoff=80\n",
    "            )\n",
    "            \n",
    "            if best_match is not None:\n",
    "                keyword_matches += 1\n",
    "                if verbose:\n",
    "                    print(f\"Matched '{keyword}' with '{best_match[0]}' (score: {best_match[1]})\")\n",
    "        \n",
    "        match_percentage = (keyword_matches / len(keywords)) * 100\n",
    "        \n",
    "        if verbose:\n",
    "            clean_summary = output['generated_summary'].replace(tokenizer.pad_token, '') if tokenizer else output['generated_summary']\n",
    "            print(f\"\\nCompletion: {clean_summary}\")\n",
    "            print(f\"Keywords: {keywords}\")\n",
    "            print(f\"Match percentage: {match_percentage}%\")\n",
    "            print(\"-\" * 80)\n",
    "            \n",
    "        total_keyword_match_percentage += match_percentage\n",
    "\n",
    "    return total_keyword_match_percentage / len(summarization_outputs)\n",
    "\n",
    "# Test cases\n",
    "def run_tests():\n",
    "    # Mock tokenizer that does nothing\n",
    "    class MockTokenizer:\n",
    "        pad_token = \"\"\n",
    "    \n",
    "    test_cases = [\n",
    "        {\n",
    "            \"name\": \"Exact matches\",\n",
    "            \"summary\": \"artificial intelligence is transforming the healthcare industry rapidly\",\n",
    "            \"keywords\": [\"artificial intelligence\", \"healthcare industry\", \"transforming\"]\n",
    "        },\n",
    "        {\n",
    "            \"name\": \"Partial/fuzzy matches\",\n",
    "            \"summary\": \"artifical intellegence is changing the health industry fast\",  # Intentional typos\n",
    "            \"keywords\": [\"artificial intelligence\", \"healthcare industry\", \"transforming\"]\n",
    "        },\n",
    "        {\n",
    "            \"name\": \"Long phrase matches\",\n",
    "            \"summary\": \"the quick brown fox jumps over the lazy sleeping dog in the park\",\n",
    "            \"keywords\": [\"quick brown fox\", \"lazy sleeping dog\", \"in the park\"]\n",
    "        },\n",
    "        {\n",
    "            \"name\": \"Mixed length phrases\",\n",
    "            \"summary\": \"deep learning models are becoming more sophisticated every day\",\n",
    "            \"keywords\": [\"deep learning\", \"sophisticated\", \"becoming more sophisticated\", \"models\"]\n",
    "        },\n",
    "        {\n",
    "            \"name\": \"Five-word phrases\",\n",
    "            \"summary\": \"the big red ball bounced down the steep hill quickly and rolled into the river\",\n",
    "            \"keywords\": [\"big red ball bounced down\", \"rolled into the river\", \"steep hill quickly\"]\n",
    "        }\n",
    "    ]\n",
    "    \n",
    "    print(\"Running multi-word keyword matching tests...\\n\")\n",
    "    \n",
    "    for test_case in test_cases:\n",
    "        print(f\"\\nTest: {test_case['name']}\")\n",
    "        print(\"=\" * 50)\n",
    "        \n",
    "        # Format data for evaluate_summary function\n",
    "        summarization_outputs = [{\"generated_summary\": test_case[\"summary\"]}]\n",
    "        summarization_val_dataset = {\"gpt_keywords\": [test_case[\"keywords\"]]}\n",
    "        \n",
    "        # Run evaluation\n",
    "        match_percentage = evaluate_summary(\n",
    "            summarization_outputs,\n",
    "            summarization_val_dataset,\n",
    "            MockTokenizer(),\n",
    "            verbose=True\n",
    "        )\n",
    "        \n",
    "        print(f\"\\nFinal match percentage: {match_percentage:.2f}%\\n\")\n",
    "\n",
    "if __name__ == \"__main__\":\n",
    "    run_tests()"
   ]
  },
  {
   "cell_type": "code",
   "execution_count": null,
   "metadata": {},
   "outputs": [],
   "source": []
  }
 ],
 "metadata": {
  "kernelspec": {
   "display_name": "Python 3",
   "language": "python",
   "name": "python3"
  },
  "language_info": {
   "codemirror_mode": {
    "name": "ipython",
    "version": 3
   },
   "file_extension": ".py",
   "mimetype": "text/x-python",
   "name": "python",
   "nbconvert_exporter": "python",
   "pygments_lexer": "ipython3",
   "version": "3.11.8"
  }
 },
 "nbformat": 4,
 "nbformat_minor": 2
}
